{
 "cells": [
  {
   "cell_type": "markdown",
   "metadata": {},
   "source": [
    "# Import Libraries"
   ]
  },
  {
   "cell_type": "code",
   "execution_count": 1,
   "metadata": {},
   "outputs": [],
   "source": [
    "# Import necessary libraries\n",
    "import os\n",
    "import torch\n",
    "import torchvision\n",
    "import numpy as np\n",
    "import matplotlib.pyplot as plt\n",
    "from PIL import Image\n",
    "import json\n"
   ]
  },
  {
   "cell_type": "markdown",
   "metadata": {},
   "source": [
    "# Download [Necesarry Files](https://github.com/pytorch/vision/tree/main/references/detection)"
   ]
  },
  {
   "cell_type": "code",
   "execution_count": 2,
   "metadata": {},
   "outputs": [
    {
     "name": "stderr",
     "output_type": "stream",
     "text": [
      "Downloading coco_eval.py: |\u001b[34m                                        \u001b[0m| 6.30k/? [00:00<?, ?B/s]       \n"
     ]
    },
    {
     "name": "stdout",
     "output_type": "stream",
     "text": [
      "\n",
      "✅ coco_eval.py downloaded successfully!\n",
      "\n"
     ]
    },
    {
     "name": "stderr",
     "output_type": "stream",
     "text": [
      "Downloading coco_utils.py: |\u001b[34m                                        \u001b[0m| 8.20k/? [00:00<00:00, 8.09MB/s]\n"
     ]
    },
    {
     "name": "stdout",
     "output_type": "stream",
     "text": [
      "\n",
      "✅ coco_utils.py downloaded successfully!\n",
      "\n"
     ]
    },
    {
     "name": "stderr",
     "output_type": "stream",
     "text": [
      "Downloading engine.py: |\u001b[34m                                        \u001b[0m| 3.97k/? [00:00<00:00, 255kB/s]\n"
     ]
    },
    {
     "name": "stdout",
     "output_type": "stream",
     "text": [
      "\n",
      "✅ engine.py downloaded successfully!\n",
      "\n"
     ]
    },
    {
     "name": "stderr",
     "output_type": "stream",
     "text": [
      "Downloading transforms.py: |\u001b[34m                                        \u001b[0m| 23.1k/? [00:00<00:00, 4.32MB/s]\n"
     ]
    },
    {
     "name": "stdout",
     "output_type": "stream",
     "text": [
      "\n",
      "✅ transforms.py downloaded successfully!\n",
      "\n"
     ]
    },
    {
     "name": "stderr",
     "output_type": "stream",
     "text": [
      "Downloading utils.py: |\u001b[34m                                        \u001b[0m| 8.19k/? [00:00<?, ?B/s]       "
     ]
    },
    {
     "name": "stdout",
     "output_type": "stream",
     "text": [
      "\n",
      "✅ utils.py downloaded successfully!\n",
      "\n"
     ]
    },
    {
     "name": "stderr",
     "output_type": "stream",
     "text": [
      "\n"
     ]
    }
   ],
   "source": [
    "import requests\n",
    "from tqdm import tqdm\n",
    "\n",
    "# List of files to download\n",
    "files_to_download = [\n",
    "    \"coco_eval.py\",\n",
    "    \"coco_utils.py\",\n",
    "    \"engine.py\",\n",
    "    \"transforms.py\",\n",
    "    \"utils.py\"\n",
    "]\n",
    "\n",
    "# Base URL of the raw files on GitHub\n",
    "base_url = \"https://raw.githubusercontent.com/pytorch/vision/main/references/detection/\"\n",
    "\n",
    "def download_file(file_name):\n",
    "    url = base_url + file_name\n",
    "    response = requests.get(url, stream=True)\n",
    "    if response.status_code == 200:\n",
    "        total_size = int(response.headers.get('content-length', 0))\n",
    "        with open(file_name, 'wb') as file:\n",
    "            with tqdm(\n",
    "                desc=f\"Downloading {file_name}\",\n",
    "                total=total_size,\n",
    "                unit='B',\n",
    "                unit_scale=True,\n",
    "                unit_divisor=1024,\n",
    "                colour='blue',  # Color the progress bar\n",
    "                bar_format=\"{l_bar}{bar:40}{r_bar}\",  # Custom format\n",
    "            ) as bar:\n",
    "                for data in response.iter_content(chunk_size=1024):\n",
    "                    file.write(data)\n",
    "                    bar.update(len(data))\n",
    "        print(f\"\\n✅ {file_name} downloaded successfully!\\n\")\n",
    "    else:\n",
    "        print(f\"\\n❌ Failed to download {file_name}. HTTP Status Code: {response.status_code}\\n\")\n",
    "\n",
    "# Download each file\n",
    "for file_name in files_to_download:\n",
    "    download_file(file_name)\n"
   ]
  },
  {
   "cell_type": "markdown",
   "metadata": {},
   "source": [
    "# Custom Dataset Class"
   ]
  },
  {
   "cell_type": "code",
   "execution_count": 7,
   "metadata": {},
   "outputs": [],
   "source": [
    "class TACODataset(torch.utils.data.Dataset):\n",
    "    def __init__(self, root, annotation_file, transforms=None):\n",
    "        self.root = root  # Path to 'TACO/data' directory\n",
    "        self.transforms = transforms\n",
    "        # Load annotations\n",
    "        with open(annotation_file) as f:\n",
    "            self.coco = json.load(f)\n",
    "        self.image_info = {img['id']: img for img in self.coco['images']}\n",
    "        self.annotations = self.coco['annotations']\n",
    "        # Map category IDs to labels\n",
    "        self.cat_id_to_label = {cat['id']: idx + 1 for idx, cat in enumerate(self.coco['categories'])}\n",
    "        self.num_classes = len(self.cat_id_to_label) + 1  # Including background\n",
    "        # Group annotations by image\n",
    "        self.img_id_to_annots = {}\n",
    "        for ann in self.annotations:\n",
    "            self.img_id_to_annots.setdefault(ann['image_id'], []).append(ann)\n",
    "        self.img_ids = list(self.image_info.keys())\n",
    "\n",
    "    def __getitem__(self, idx):\n",
    "        img_id = self.img_ids[idx]\n",
    "        img_info = self.image_info[img_id]\n",
    "        # The 'file_name' includes the batch directory, e.g., 'batch_1/00001.jpg'\n",
    "        img_path = os.path.join(self.root, img_info['file_name'])\n",
    "        img = Image.open(img_path).convert(\"RGB\")\n",
    "        annots = self.img_id_to_annots.get(img_id, [])\n",
    "        boxes = []\n",
    "        labels = []\n",
    "        areas = []\n",
    "        iscrowd = []\n",
    "        for ann in annots:\n",
    "            bbox = ann['bbox']\n",
    "            x_min, y_min, width, height = bbox\n",
    "            boxes.append([x_min, y_min, x_min + width, y_min + height])\n",
    "            labels.append(self.cat_id_to_label[ann['category_id']])\n",
    "            areas.append(width * height)\n",
    "            iscrowd.append(0)\n",
    "        if boxes:\n",
    "            boxes = torch.as_tensor(boxes, dtype=torch.float32)\n",
    "            labels = torch.as_tensor(labels, dtype=torch.int64)\n",
    "            areas = torch.as_tensor(areas, dtype=torch.float32)\n",
    "            iscrowd = torch.as_tensor(iscrowd, dtype=torch.int64)\n",
    "        else:\n",
    "            # If no annotations, create empty tensors\n",
    "            boxes = torch.zeros((0, 4), dtype=torch.float32)\n",
    "            labels = torch.zeros((0,), dtype=torch.int64)\n",
    "            areas = torch.zeros((0,), dtype=torch.float32)\n",
    "            iscrowd = torch.zeros((0,), dtype=torch.int64)\n",
    "        target = {\n",
    "            'boxes': boxes,\n",
    "            'labels': labels,\n",
    "            'image_id': torch.tensor([idx]),\n",
    "            'area': areas,\n",
    "            'iscrowd': iscrowd\n",
    "        }\n",
    "        if self.transforms:\n",
    "            img, target = self.transforms(img, target)\n",
    "        return img, target\n",
    "\n",
    "    def __len__(self):\n",
    "        return len(self.img_ids)\n"
   ]
  },
  {
   "cell_type": "markdown",
   "metadata": {},
   "source": [
    "# Transofrmation"
   ]
  },
  {
   "cell_type": "code",
   "execution_count": 8,
   "metadata": {},
   "outputs": [],
   "source": [
    "import torchvision.transforms as T\n",
    "import torchvision.transforms.functional as F\n",
    "\n",
    "class Compose(object):\n",
    "    def __init__(self, transforms):\n",
    "        self.transforms = transforms\n",
    "\n",
    "    def __call__(self, image, target):\n",
    "        for t in self.transforms:\n",
    "            image, target = t(image, target)\n",
    "        return image, target\n",
    "\n",
    "class Resize(object):\n",
    "    def __init__(self, size):\n",
    "        self.size = size  # (height, width)\n",
    "\n",
    "    def __call__(self, image, target):\n",
    "        # Get original size\n",
    "        orig_width, orig_height = image.size\n",
    "        # Resize image\n",
    "        image = F.resize(image, self.size)\n",
    "        # Calculate scale factors\n",
    "        scale_x = self.size[1] / orig_width\n",
    "        scale_y = self.size[0] / orig_height\n",
    "        # Resize bounding boxes\n",
    "        boxes = target['boxes']\n",
    "        boxes = boxes * torch.tensor([scale_x, scale_y, scale_x, scale_y])\n",
    "        target['boxes'] = boxes\n",
    "        return image, target\n",
    "\n",
    "class ToTensor(object):\n",
    "    def __call__(self, image, target):\n",
    "        image = F.to_tensor(image)\n",
    "        return image, target\n",
    "\n",
    "def get_transform(train):\n",
    "    transforms = []\n",
    "    transforms.append(Resize((224, 224)))  # Resize to 224x224\n",
    "    transforms.append(ToTensor())\n",
    "    if train:\n",
    "        # Add data augmentation here if needed\n",
    "        pass\n",
    "    return Compose(transforms)\n"
   ]
  },
  {
   "cell_type": "markdown",
   "metadata": {},
   "source": [
    "# Prepare the model\n"
   ]
  },
  {
   "cell_type": "code",
   "execution_count": 9,
   "metadata": {},
   "outputs": [],
   "source": [
    "from torchvision.models.detection.faster_rcnn import FastRCNNPredictor\n",
    "\n",
    "def get_model(num_classes):\n",
    "    # Load a pre-trained model for classification and return\n",
    "    # only the features\n",
    "    model = torchvision.models.detection.fasterrcnn_resnet50_fpn(weights='DEFAULT')\n",
    "    # Get the number of input features for the classifier\n",
    "    in_features = model.roi_heads.box_predictor.cls_score.in_features\n",
    "    # Replace the pre-trained head with a new one\n",
    "    model.roi_heads.box_predictor = FastRCNNPredictor(in_features, num_classes)\n",
    "    return model\n"
   ]
  },
  {
   "cell_type": "markdown",
   "metadata": {},
   "source": [
    "# Training and Evaluation"
   ]
  },
  {
   "cell_type": "code",
   "execution_count": 11,
   "metadata": {},
   "outputs": [],
   "source": [
    "from torch.utils.data import DataLoader\n",
    "import utils\n",
    "import engine\n",
    "import torch.optim as optim\n",
    "from torch.optim.lr_scheduler import StepLR\n",
    "\n",
    "# Paths to data and annotations\n",
    "dataset_root = 'TACO-master/data'  # Point to 'TACO/data' directory\n",
    "annotation_file = 'TACO-master/data/annotations.json'\n",
    "\n",
    "# Create the dataset\n",
    "dataset = TACODataset(dataset_root, annotation_file, transforms=get_transform(train=True))\n",
    "dataset_test = TACODataset(dataset_root, annotation_file, transforms=get_transform(train=False))\n",
    "\n",
    "# Split the dataset into train and test set\n",
    "torch.manual_seed(1)\n",
    "indices = torch.randperm(len(dataset)).tolist()\n",
    "test_size = int(len(indices) * 0.2)\n",
    "dataset = torch.utils.data.Subset(dataset, indices[:-test_size])\n",
    "dataset_test = torch.utils.data.Subset(dataset_test, indices[-test_size:])\n",
    "\n",
    "# Define training and validation data loaders\n",
    "data_loader = DataLoader(dataset, batch_size=2, shuffle=True, num_workers=4, collate_fn=utils.collate_fn)\n",
    "data_loader_test = DataLoader(dataset_test, batch_size=1, shuffle=False, num_workers=4, collate_fn=utils.collate_fn)\n",
    "\n",
    "# Get the number of classes\n",
    "num_classes = dataset.dataset.num_classes\n",
    "\n",
    "# Initialize the model\n",
    "model = get_model(num_classes)\n",
    "\n",
    "# Move model to the right device\n",
    "device = torch.device('cuda') if torch.cuda.is_available() else torch.device('cpu')\n",
    "model.to(device)\n",
    "\n",
    "# Construct an optimizer\n",
    "params = [p for p in model.parameters() if p.requires_grad]\n",
    "optimizer = optim.SGD(params, lr=0.005, momentum=0.9, weight_decay=0.0005)\n",
    "\n",
    "# Learning rate scheduler\n",
    "lr_scheduler = StepLR(optimizer, step_size=3, gamma=0.1)\n"
   ]
  },
  {
   "cell_type": "code",
   "execution_count": null,
   "metadata": {},
   "outputs": [],
   "source": [
    "# Number of epochs\n",
    "num_epochs = 10\n",
    "\n",
    "for epoch in range(num_epochs):\n",
    "    # Training one epoch\n",
    "    engine.train_one_epoch(model, optimizer, data_loader, device, epoch, print_freq=100)\n",
    "    # Update the learning rate\n",
    "    lr_scheduler.step()\n",
    "    # Evaluate on the test dataset\n",
    "    engine.evaluate(model, data_loader_test, device=device)\n",
    "\n",
    "# Save the trained model\n",
    "torch.save(model.state_dict(), 'taco_faster_rcnn.pth')\n",
    "print(\"Training completed and model saved.\")\n"
   ]
  },
  {
   "cell_type": "markdown",
   "metadata": {},
   "source": [
    "# Visualize the results"
   ]
  },
  {
   "cell_type": "code",
   "execution_count": null,
   "metadata": {},
   "outputs": [],
   "source": [
    "def visualize_predictions(model, dataset, device, num_images=5, score_threshold=0.5):\n",
    "    model.eval()\n",
    "    data_loader = DataLoader(dataset, batch_size=1, shuffle=True, collate_fn=utils.collate_fn)\n",
    "    images_so_far = 0\n",
    "    for imgs, targets in data_loader:\n",
    "        if images_so_far >= num_images:\n",
    "            break\n",
    "        imgs = list(img.to(device) for img in imgs)\n",
    "        outputs = model(imgs)\n",
    "        for img, output in zip(imgs, outputs):\n",
    "            images_so_far += 1\n",
    "            plt.figure(figsize=(8, 8))\n",
    "            img = img.cpu().permute(1, 2, 0).numpy()\n",
    "            plt.imshow(img)\n",
    "            ax = plt.gca()\n",
    "            boxes = output['boxes'].cpu().detach().numpy()\n",
    "            scores = output['scores'].cpu().detach().numpy()\n",
    "            labels = output['labels'].cpu().detach().numpy()\n",
    "            for box, score, label in zip(boxes, scores, labels):\n",
    "                if score > score_threshold:\n",
    "                    xmin, ymin, xmax, ymax = box\n",
    "                    width, height = xmax - xmin, ymax - ymin\n",
    "                    rect = plt.Rectangle((xmin, ymin), width, height, fill=False, color='red', linewidth=2)\n",
    "                    ax.add_patch(rect)\n",
    "                    category_id = [key for key, value in dataset.dataset.cat_id_to_label.items() if value == label][0]\n",
    "                    category_name = [cat['name'] for cat in dataset.dataset.coco['categories'] if cat['id'] == category_id][0]\n",
    "                    plt.text(xmin, ymin - 10, f'{category_name}: {score:.2f}', color='red', fontsize=12)\n",
    "            plt.axis('off')\n",
    "            plt.show()\n"
   ]
  },
  {
   "cell_type": "code",
   "execution_count": null,
   "metadata": {},
   "outputs": [],
   "source": [
    "# Visualize the predictions\n",
    "visualize_predictions(model, dataset_test, device, num_images=5, score_threshold=0.5)\n"
   ]
  }
 ],
 "metadata": {
  "kernelspec": {
   "display_name": "taco-rcnn",
   "language": "python",
   "name": "python3"
  },
  "language_info": {
   "codemirror_mode": {
    "name": "ipython",
    "version": 3
   },
   "file_extension": ".py",
   "mimetype": "text/x-python",
   "name": "python",
   "nbconvert_exporter": "python",
   "pygments_lexer": "ipython3",
   "version": "3.10.15"
  }
 },
 "nbformat": 4,
 "nbformat_minor": 2
}
